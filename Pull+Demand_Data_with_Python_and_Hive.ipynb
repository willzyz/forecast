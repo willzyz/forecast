{
 "cells": [
  {
   "cell_type": "code",
   "execution_count": null,
   "metadata": {
    "collapsed": true
   },
   "outputs": [],
   "source": [
    "from queryrunner_client import Client \n",
    "\n",
    "qr = Client(user_email='will.zou@uber.com') \n"
   ]
  },
  {
   "cell_type": "code",
   "execution_count": null,
   "metadata": {
    "collapsed": true
   },
   "outputs": [],
   "source": [
    "def make_query_daily(yesterday_ds):\n",
    "    return \"\"\"\n",
    "        WITH xp AS (\n",
    "            SELECT user_uuid\n",
    "            , first_segment_key AS segment\n",
    "            , first_treatment_group_key AS test_group\n",
    "            , begin_effective_timestamp\n",
    "            , TO_DATE(FROM_UNIXTIME(begin_effective_timestamp)) AS begin_effective_datestr\n",
    "            FROM driver.carbon_m1_seut\n",
    "            WHERE experiment_key = 'carbon_m1'\n",
    "            AND datestr >= '2018-04-02'\n",
    "            AND first_treatment_group_key IN ('carbon','control')\n",
    "            AND first_segment_key IN ('carbon_m1_driver_intl','carbon_m1_driver_usa','carbon_m1_courier_intl','carbon_m1_courier_usa')\n",
    "            AND begin_effective_timestamp >= UNIX_TIMESTAMP('2018-04-02 00:00:00')\n",
    "            AND begin_effective_timestamp <= UNIX_TIMESTAMP('{yesterday_ds} 23:59:59')\n",
    "            AND COALESCE(end_effective_timestamp, UNIX_TIMESTAMP('{yesterday_ds} 23:59:59')) >= UNIX_TIMESTAMP('{yesterday_ds} 23:59:59')\n",
    "        )\n",
    "\n",
    "        SELECT *\n",
    "        FROM\n",
    "        (\n",
    "            SELECT xp.segment AS segment\n",
    "            , (CASE WHEN xp.test_group = 'control' THEN 'ALLOY' ELSE 'CARBON' END) AS test_group\n",
    "            , uwt.span_name AS metric\n",
    "            , uwt.duration_us/1000000.0 AS metric_value\n",
    "            FROM xp\n",
    "            JOIN driver.carbon_uwt_driver_uuid uwt\n",
    "            ON xp.user_uuid = uwt.driver_uuid\n",
    "            WHERE uwt.datestr = '{yesterday_ds}'\n",
    "            AND uwt.span_name IN ('cold_start_completed_startup','go_online','go_offline','begin_trip','end_trip')\n",
    "            AND (uwt.start_time_us/1000000.0) >= xp.begin_effective_timestamp\n",
    "\n",
    "            UNION ALL\n",
    "\n",
    "            SELECT\n",
    "            (CASE WHEN xp.segment IN ('carbon_m1_driver_intl','carbon_m1_driver_usa') THEN 'carbon_m1_driver_combined'\n",
    "                  WHEN xp.segment IN ('carbon_m1_courier_intl','carbon_m1_courier_usa') THEN 'carbon_m1_courier_combined'\n",
    "                  END) AS segment\n",
    "            , (CASE WHEN xp.test_group = 'control' THEN 'ALLOY' ELSE 'CARBON' END) AS test_group\n",
    "            , uwt.span_name AS metric\n",
    "            , uwt.duration_us/1000000.0 AS metric_value\n",
    "            FROM xp\n",
    "            JOIN driver.carbon_uwt_driver_uuid uwt\n",
    "            ON xp.user_uuid = uwt.driver_uuid\n",
    "            WHERE uwt.datestr = '{yesterday_ds}'\n",
    "            AND uwt.span_name IN ('cold_start_completed_startup','go_online','go_offline','begin_trip','end_trip')\n",
    "            AND (uwt.start_time_us/1000000.0) >= xp.begin_effective_timestamp\n",
    "\n",
    "        ) t\n",
    "        ORDER BY RAND()\n",
    "        LIMIT 3000000\n",
    "    \"\"\".format(yesterday_ds=yesterday_ds)"
   ]
  },
  {
   "cell_type": "code",
   "execution_count": null,
   "metadata": {
    "collapsed": true
   },
   "outputs": [],
   "source": [
    "command = \n",
    "execution = qr.execute('hive', command) \n",
    "df_raw = pd.DataFrame(execution.load_data()) \n"
   ]
  }
 ],
 "metadata": {
  "kernelspec": {
   "display_name": "Python 3 (General DS)",
   "language": "python",
   "name": "python3"
  },
  "language_info": {
   "codemirror_mode": {
    "name": "ipython",
    "version": 3
   },
   "file_extension": ".py",
   "mimetype": "text/x-python",
   "name": "python",
   "nbconvert_exporter": "python",
   "pygments_lexer": "ipython3",
   "version": "3.6.4"
  }
 },
 "nbformat": 4,
 "nbformat_minor": 2
}
