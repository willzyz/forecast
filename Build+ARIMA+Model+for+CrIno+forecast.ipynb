{
 "cells": [
  {
   "cell_type": "markdown",
   "metadata": {},
   "source": [
    "## \n",
    "\n",
    "Build ARIMA model with python package "
   ]
  },
  {
   "cell_type": "code",
   "execution_count": 1,
   "metadata": {},
   "outputs": [],
   "source": [
    "import pickle, matplotlib.pyplot as plt, numpy as np \n",
    "from statsmodels.tsa.arima_model import ARIMA\n",
    "from matplotlib import pyplot as plt \n",
    "from crino_utils import * \n",
    "\n",
    "D, M = load_data_build_4wa_baseline_supply() \n"
   ]
  },
  {
   "cell_type": "code",
   "execution_count": null,
   "metadata": {
    "scrolled": true
   },
   "outputs": [
    {
     "name": "stdout",
     "output_type": "stream",
     "text": [
      "working on hour of week: 0\n"
     ]
    },
    {
     "name": "stderr",
     "output_type": "stream",
     "text": [
      "/home/udocker/phoenix-worker/environments/python3/lib/python3.6/site-packages/statsmodels/base/model.py:488: HessianInversionWarning: Inverting hessian failed, no bse or cov_params available\n",
      "  'available', HessianInversionWarning)\n",
      "/home/udocker/phoenix-worker/environments/python3/lib/python3.6/site-packages/statsmodels/base/model.py:488: HessianInversionWarning: Inverting hessian failed, no bse or cov_params available\n",
      "  'available', HessianInversionWarning)\n",
      "/home/udocker/phoenix-worker/environments/python3/lib/python3.6/site-packages/statsmodels/base/model.py:488: HessianInversionWarning: Inverting hessian failed, no bse or cov_params available\n",
      "  'available', HessianInversionWarning)\n",
      "/home/udocker/phoenix-worker/environments/python3/lib/python3.6/site-packages/statsmodels/base/model.py:488: HessianInversionWarning: Inverting hessian failed, no bse or cov_params available\n",
      "  'available', HessianInversionWarning)\n",
      "/home/udocker/phoenix-worker/environments/python3/lib/python3.6/site-packages/statsmodels/base/model.py:488: HessianInversionWarning: Inverting hessian failed, no bse or cov_params available\n",
      "  'available', HessianInversionWarning)\n",
      "/home/udocker/phoenix-worker/environments/python3/lib/python3.6/site-packages/statsmodels/base/model.py:488: HessianInversionWarning: Inverting hessian failed, no bse or cov_params available\n",
      "  'available', HessianInversionWarning)\n",
      "/home/udocker/phoenix-worker/environments/python3/lib/python3.6/site-packages/statsmodels/base/model.py:508: ConvergenceWarning: Maximum Likelihood optimization failed to converge. Check mle_retvals\n",
      "  \"Check mle_retvals\", ConvergenceWarning)\n"
     ]
    },
    {
     "name": "stdout",
     "output_type": "stream",
     "text": [
      "working on hour of week: 1\n",
      "working on hour of week: 2\n"
     ]
    },
    {
     "name": "stderr",
     "output_type": "stream",
     "text": [
      "/home/udocker/phoenix-worker/environments/python3/lib/python3.6/site-packages/statsmodels/base/model.py:508: ConvergenceWarning: Maximum Likelihood optimization failed to converge. Check mle_retvals\n",
      "  \"Check mle_retvals\", ConvergenceWarning)\n",
      "/home/udocker/phoenix-worker/environments/python3/lib/python3.6/site-packages/statsmodels/base/model.py:508: ConvergenceWarning: Maximum Likelihood optimization failed to converge. Check mle_retvals\n",
      "  \"Check mle_retvals\", ConvergenceWarning)\n",
      "/home/udocker/phoenix-worker/environments/python3/lib/python3.6/site-packages/statsmodels/base/model.py:508: ConvergenceWarning: Maximum Likelihood optimization failed to converge. Check mle_retvals\n",
      "  \"Check mle_retvals\", ConvergenceWarning)\n"
     ]
    },
    {
     "name": "stdout",
     "output_type": "stream",
     "text": [
      "working on hour of week: 3\n"
     ]
    },
    {
     "name": "stderr",
     "output_type": "stream",
     "text": [
      "/home/udocker/phoenix-worker/environments/python3/lib/python3.6/site-packages/statsmodels/base/model.py:488: HessianInversionWarning: Inverting hessian failed, no bse or cov_params available\n",
      "  'available', HessianInversionWarning)\n",
      "/home/udocker/phoenix-worker/environments/python3/lib/python3.6/site-packages/statsmodels/base/model.py:508: ConvergenceWarning: Maximum Likelihood optimization failed to converge. Check mle_retvals\n",
      "  \"Check mle_retvals\", ConvergenceWarning)\n"
     ]
    },
    {
     "name": "stdout",
     "output_type": "stream",
     "text": [
      "working on hour of week: 4\n",
      "working on hour of week: 5\n",
      "working on hour of week: 6\n",
      "working on hour of week: 7\n",
      "working on hour of week: 8\n",
      "working on hour of week: 9\n",
      "working on hour of week: 10\n"
     ]
    },
    {
     "name": "stderr",
     "output_type": "stream",
     "text": [
      "/home/udocker/phoenix-worker/environments/python3/lib/python3.6/site-packages/statsmodels/tsa/tsatools.py:650: RuntimeWarning: overflow encountered in exp\n",
      "  newparams = ((1-np.exp(-params))/(1+np.exp(-params))).copy()\n",
      "/home/udocker/phoenix-worker/environments/python3/lib/python3.6/site-packages/statsmodels/tsa/tsatools.py:650: RuntimeWarning: invalid value encountered in true_divide\n",
      "  newparams = ((1-np.exp(-params))/(1+np.exp(-params))).copy()\n",
      "/home/udocker/phoenix-worker/environments/python3/lib/python3.6/site-packages/statsmodels/tsa/tsatools.py:651: RuntimeWarning: overflow encountered in exp\n",
      "  tmp = ((1-np.exp(-params))/(1+np.exp(-params))).copy()\n",
      "/home/udocker/phoenix-worker/environments/python3/lib/python3.6/site-packages/statsmodels/tsa/tsatools.py:651: RuntimeWarning: invalid value encountered in true_divide\n",
      "  tmp = ((1-np.exp(-params))/(1+np.exp(-params))).copy()\n"
     ]
    },
    {
     "name": "stdout",
     "output_type": "stream",
     "text": [
      "working on hour of week: 11\n",
      "working on hour of week: 12\n",
      "working on hour of week: 13\n"
     ]
    },
    {
     "name": "stderr",
     "output_type": "stream",
     "text": [
      "/home/udocker/phoenix-worker/environments/python3/lib/python3.6/site-packages/statsmodels/base/model.py:488: HessianInversionWarning: Inverting hessian failed, no bse or cov_params available\n",
      "  'available', HessianInversionWarning)\n",
      "/home/udocker/phoenix-worker/environments/python3/lib/python3.6/site-packages/statsmodels/base/model.py:508: ConvergenceWarning: Maximum Likelihood optimization failed to converge. Check mle_retvals\n",
      "  \"Check mle_retvals\", ConvergenceWarning)\n",
      "/home/udocker/phoenix-worker/environments/python3/lib/python3.6/site-packages/statsmodels/base/model.py:488: HessianInversionWarning: Inverting hessian failed, no bse or cov_params available\n",
      "  'available', HessianInversionWarning)\n",
      "/home/udocker/phoenix-worker/environments/python3/lib/python3.6/site-packages/statsmodels/base/model.py:488: HessianInversionWarning: Inverting hessian failed, no bse or cov_params available\n",
      "  'available', HessianInversionWarning)\n",
      "/home/udocker/phoenix-worker/environments/python3/lib/python3.6/site-packages/statsmodels/base/model.py:508: ConvergenceWarning: Maximum Likelihood optimization failed to converge. Check mle_retvals\n",
      "  \"Check mle_retvals\", ConvergenceWarning)\n",
      "/home/udocker/phoenix-worker/environments/python3/lib/python3.6/site-packages/statsmodels/base/model.py:488: HessianInversionWarning: Inverting hessian failed, no bse or cov_params available\n",
      "  'available', HessianInversionWarning)\n",
      "/home/udocker/phoenix-worker/environments/python3/lib/python3.6/site-packages/statsmodels/base/model.py:508: ConvergenceWarning: Maximum Likelihood optimization failed to converge. Check mle_retvals\n",
      "  \"Check mle_retvals\", ConvergenceWarning)\n",
      "/home/udocker/phoenix-worker/environments/python3/lib/python3.6/site-packages/statsmodels/base/model.py:508: ConvergenceWarning: Maximum Likelihood optimization failed to converge. Check mle_retvals\n",
      "  \"Check mle_retvals\", ConvergenceWarning)\n",
      "/home/udocker/phoenix-worker/environments/python3/lib/python3.6/site-packages/statsmodels/base/model.py:488: HessianInversionWarning: Inverting hessian failed, no bse or cov_params available\n",
      "  'available', HessianInversionWarning)\n",
      "/home/udocker/phoenix-worker/environments/python3/lib/python3.6/site-packages/statsmodels/base/model.py:508: ConvergenceWarning: Maximum Likelihood optimization failed to converge. Check mle_retvals\n",
      "  \"Check mle_retvals\", ConvergenceWarning)\n",
      "/home/udocker/phoenix-worker/environments/python3/lib/python3.6/site-packages/statsmodels/tsa/tsatools.py:676: RuntimeWarning: divide by zero encountered in true_divide\n",
      "  invmacoefs = -np.log((1-macoefs)/(1+macoefs))\n",
      "/home/udocker/phoenix-worker/environments/python3/lib/python3.6/site-packages/statsmodels/tools/numdiff.py:243: RuntimeWarning: invalid value encountered in add\n",
      "  **kwargs)).imag/2./hess[i, j]\n",
      "/home/udocker/phoenix-worker/environments/python3/lib/python3.6/site-packages/statsmodels/tools/numdiff.py:243: RuntimeWarning: invalid value encountered in multiply\n",
      "  **kwargs)).imag/2./hess[i, j]\n",
      "/home/udocker/phoenix-worker/environments/python3/lib/python3.6/site-packages/statsmodels/tsa/tsatools.py:650: RuntimeWarning: invalid value encountered in exp\n",
      "  newparams = ((1-np.exp(-params))/(1+np.exp(-params))).copy()\n",
      "/home/udocker/phoenix-worker/environments/python3/lib/python3.6/site-packages/statsmodels/tsa/tsatools.py:651: RuntimeWarning: invalid value encountered in exp\n",
      "  tmp = ((1-np.exp(-params))/(1+np.exp(-params))).copy()\n",
      "/home/udocker/phoenix-worker/environments/python3/lib/python3.6/site-packages/statsmodels/base/model.py:488: HessianInversionWarning: Inverting hessian failed, no bse or cov_params available\n",
      "  'available', HessianInversionWarning)\n"
     ]
    }
   ],
   "source": [
    "## define the orders of ARIMA model \n",
    "arima_order = (3, 1, 1) \n",
    "\n",
    "full_pred_list = [] \n",
    "full_target_list = [] \n",
    "full_base_pred_list = [] \n",
    "\n",
    "## start & end weeks in the year for evaluation \n",
    "start_wk = 15 \n",
    "end_wk = 35 \n",
    "start_hour_wk = 0 \n",
    "n_hours_wk = 168 \n",
    "\n",
    "model_cnt = 0 \n",
    "for ih in range(start_hour_wk, n_hours_wk): \n",
    "    print('working on hour of week: ' + str(ih))\n",
    "    ## choose data to be the \n",
    "    X = D[:, ih] \n",
    "    for next_wk in range(start_wk, end_wk + 1): \n",
    "        forecast_wk = next_wk + 1 \n",
    "        train, tgt = X[0:next_wk], X[forecast_wk] # forecast two week away \n",
    "        history_0 = [x for x in train] \n",
    "        try: \n",
    "            ## two-step forecast\n",
    "            \"\"\"\n",
    "            h_mean = np.mean(np.asarray(history_0)) \n",
    "            h_std = np.std(np.asarray(history_0))\n",
    "            norm_history_0 = (history_0 - h_mean) / h_std \n",
    "            \"\"\"\n",
    "            model_0 = ARIMA(history_0, order=arima_order) \n",
    "            model_fit_0 = model_0.fit(disp=0) \n",
    "            output_0 = model_fit_0.forecast() \n",
    "            pred_0 = output_0[0][0] \n",
    "            \n",
    "            history_1 = history_0 + [pred_0] \n",
    "            \n",
    "            model_1 = ARIMA(history_1, order=arima_order) \n",
    "            model_fit_1 = model_1.fit(disp=0) \n",
    "            output_1 = model_fit_1.forecast() \n",
    "            \n",
    "            pred_1 = output_1[0][0]\n",
    "            model_cnt = model_cnt + 1 \n",
    "        except: \n",
    "            pred_1 = M[forecast_wk, ih] \n",
    "        if np.isnan(pred_1): \n",
    "            pred_1 = M[forecast_wk, ih] \n",
    "        \n",
    "        fwa = M[forecast_wk, ih] \n",
    "        full_target_list.append(tgt) \n",
    "        full_pred_list.append(pred_1) \n",
    "        full_base_pred_list.append(fwa) \n",
    "        \n",
    "        #print('predicted=%f, expected=%f, fwa=%f' % (pred_1, tgt, fwa)) \n",
    "\n",
    "base_error = compute_mape(np.asarray(full_target_list), np.asarray(full_base_pred_list)) \n",
    "print('Base 4-week-ave Test MAPE: %.3f' % base_error) \n",
    "\n",
    "arima_error = compute_mape(np.asarray(full_target_list), np.asarray(full_pred_list)) \n",
    "print('ARIMA Model Test MAPE: %.3f' % arima_error) \n",
    "\n",
    "print('percentage of arima predicted values in pred_list: ' + str(model_cnt / ((end_wk + 1 - start_wk) * (n_hours_wk - start_hour_wk))))\n"
   ]
  },
  {
   "cell_type": "code",
   "execution_count": 3,
   "metadata": {},
   "outputs": [
    {
     "name": "stdout",
     "output_type": "stream",
     "text": [
      "0\n"
     ]
    }
   ],
   "source": [
    "print(np.sum(np.isnan(full_pred_list)))"
   ]
  }
 ],
 "metadata": {
  "kernelspec": {
   "display_name": "Python 3",
   "language": "python",
   "name": "python3"
  },
  "language_info": {
   "codemirror_mode": {
    "name": "ipython",
    "version": 2
   },
   "file_extension": ".py",
   "mimetype": "text/x-python",
   "name": "python",
   "nbconvert_exporter": "python",
   "pygments_lexer": "ipython2",
   "version": "2.7.15"
  }
 },
 "nbformat": 4,
 "nbformat_minor": 2
}
